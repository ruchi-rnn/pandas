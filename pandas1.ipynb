{
 "cells": [
  {
   "cell_type": "code",
   "execution_count": 1,
   "metadata": {},
   "outputs": [
    {
     "name": "stdout",
     "output_type": "stream",
     "text": [
      "Collecting numpy\n",
      "  Downloading numpy-1.24.4-cp38-cp38-win_amd64.whl.metadata (5.6 kB)\n",
      "Downloading numpy-1.24.4-cp38-cp38-win_amd64.whl (14.9 MB)\n",
      "   ---------------------------------------- 0.0/14.9 MB ? eta -:--:--\n",
      "   ---------------------------------------- 0.0/14.9 MB ? eta -:--:--\n",
      "   ---------------------------------------- 0.0/14.9 MB ? eta -:--:--\n",
      "   ---------------------------------------- 0.0/14.9 MB 495.5 kB/s eta 0:00:30\n",
      "    --------------------------------------- 0.2/14.9 MB 1.9 MB/s eta 0:00:08\n",
      "   - -------------------------------------- 0.5/14.9 MB 2.5 MB/s eta 0:00:06\n",
      "   - -------------------------------------- 0.7/14.9 MB 2.7 MB/s eta 0:00:06\n",
      "   -- ------------------------------------- 0.9/14.9 MB 3.1 MB/s eta 0:00:05\n",
      "   -- ------------------------------------- 1.0/14.9 MB 3.1 MB/s eta 0:00:05\n",
      "   --- ------------------------------------ 1.2/14.9 MB 3.2 MB/s eta 0:00:05\n",
      "   --- ------------------------------------ 1.4/14.9 MB 3.2 MB/s eta 0:00:05\n",
      "   --- ------------------------------------ 1.5/14.9 MB 2.9 MB/s eta 0:00:05\n",
      "   ---- ----------------------------------- 1.6/14.9 MB 2.9 MB/s eta 0:00:05\n",
      "   ---- ----------------------------------- 1.8/14.9 MB 2.9 MB/s eta 0:00:05\n",
      "   ----- ---------------------------------- 1.9/14.9 MB 3.0 MB/s eta 0:00:05\n",
      "   ----- ---------------------------------- 2.1/14.9 MB 3.1 MB/s eta 0:00:05\n",
      "   ----- ---------------------------------- 2.1/14.9 MB 3.1 MB/s eta 0:00:05\n",
      "   ----- ---------------------------------- 2.2/14.9 MB 2.7 MB/s eta 0:00:05\n",
      "   ------ --------------------------------- 2.3/14.9 MB 2.6 MB/s eta 0:00:05\n",
      "   ------ --------------------------------- 2.6/14.9 MB 2.7 MB/s eta 0:00:05\n",
      "   ------- -------------------------------- 2.8/14.9 MB 2.8 MB/s eta 0:00:05\n",
      "   --------- ------------------------------ 3.3/14.9 MB 3.1 MB/s eta 0:00:04\n",
      "   ---------- ----------------------------- 3.7/14.9 MB 3.2 MB/s eta 0:00:04\n",
      "   ---------- ----------------------------- 4.0/14.9 MB 3.3 MB/s eta 0:00:04\n",
      "   ----------- ---------------------------- 4.3/14.9 MB 3.4 MB/s eta 0:00:04\n",
      "   ------------ --------------------------- 4.6/14.9 MB 3.5 MB/s eta 0:00:03\n",
      "   ------------- -------------------------- 4.9/14.9 MB 3.6 MB/s eta 0:00:03\n",
      "   ------------- -------------------------- 5.2/14.9 MB 3.7 MB/s eta 0:00:03\n",
      "   -------------- ------------------------- 5.5/14.9 MB 3.7 MB/s eta 0:00:03\n",
      "   --------------- ------------------------ 5.8/14.9 MB 3.8 MB/s eta 0:00:03\n",
      "   ---------------- ----------------------- 5.9/14.9 MB 3.8 MB/s eta 0:00:03\n",
      "   ---------------- ----------------------- 6.2/14.9 MB 3.8 MB/s eta 0:00:03\n",
      "   ----------------- ---------------------- 6.4/14.9 MB 3.8 MB/s eta 0:00:03\n",
      "   ----------------- ---------------------- 6.6/14.9 MB 3.8 MB/s eta 0:00:03\n",
      "   ------------------ --------------------- 6.7/14.9 MB 3.8 MB/s eta 0:00:03\n",
      "   ------------------ --------------------- 6.9/14.9 MB 3.7 MB/s eta 0:00:03\n",
      "   ------------------- -------------------- 7.2/14.9 MB 3.7 MB/s eta 0:00:03\n",
      "   ------------------- -------------------- 7.4/14.9 MB 3.7 MB/s eta 0:00:03\n",
      "   -------------------- ------------------- 7.7/14.9 MB 3.7 MB/s eta 0:00:02\n",
      "   --------------------- ------------------ 8.1/14.9 MB 3.8 MB/s eta 0:00:02\n",
      "   ---------------------- ----------------- 8.5/14.9 MB 3.9 MB/s eta 0:00:02\n",
      "   ------------------------ --------------- 8.9/14.9 MB 3.9 MB/s eta 0:00:02\n",
      "   ------------------------- -------------- 9.3/14.9 MB 4.0 MB/s eta 0:00:02\n",
      "   -------------------------- ------------- 9.9/14.9 MB 4.1 MB/s eta 0:00:02\n",
      "   --------------------------- ------------ 10.2/14.9 MB 4.1 MB/s eta 0:00:02\n",
      "   ---------------------------- ----------- 10.5/14.9 MB 4.3 MB/s eta 0:00:02\n",
      "   ----------------------------- ---------- 10.8/14.9 MB 4.3 MB/s eta 0:00:01\n",
      "   ----------------------------- ---------- 11.0/14.9 MB 4.4 MB/s eta 0:00:01\n",
      "   ------------------------------ --------- 11.4/14.9 MB 4.4 MB/s eta 0:00:01\n",
      "   ------------------------------- -------- 11.7/14.9 MB 4.6 MB/s eta 0:00:01\n",
      "   -------------------------------- ------- 12.0/14.9 MB 4.6 MB/s eta 0:00:01\n",
      "   --------------------------------- ------ 12.3/14.9 MB 4.7 MB/s eta 0:00:01\n",
      "   --------------------------------- ------ 12.5/14.9 MB 5.0 MB/s eta 0:00:01\n",
      "   ---------------------------------- ----- 12.8/14.9 MB 5.1 MB/s eta 0:00:01\n",
      "   ----------------------------------- ---- 13.0/14.9 MB 5.1 MB/s eta 0:00:01\n",
      "   ----------------------------------- ---- 13.2/14.9 MB 5.0 MB/s eta 0:00:01\n",
      "   ------------------------------------ --- 13.4/14.9 MB 5.0 MB/s eta 0:00:01\n",
      "   ------------------------------------ --- 13.7/14.9 MB 5.0 MB/s eta 0:00:01\n",
      "   ------------------------------------- -- 13.8/14.9 MB 4.9 MB/s eta 0:00:01\n",
      "   ------------------------------------- -- 14.0/14.9 MB 4.9 MB/s eta 0:00:01\n",
      "   -------------------------------------- - 14.2/14.9 MB 4.8 MB/s eta 0:00:01\n",
      "   -------------------------------------- - 14.3/14.9 MB 4.8 MB/s eta 0:00:01\n",
      "   ---------------------------------------  14.6/14.9 MB 4.8 MB/s eta 0:00:01\n",
      "   ---------------------------------------  14.8/14.9 MB 4.7 MB/s eta 0:00:01\n",
      "   ---------------------------------------  14.9/14.9 MB 4.7 MB/s eta 0:00:01\n",
      "   ---------------------------------------- 14.9/14.9 MB 4.6 MB/s eta 0:00:00\n",
      "Installing collected packages: numpy\n",
      "Successfully installed numpy-1.24.4\n",
      "Note: you may need to restart the kernel to use updated packages.\n"
     ]
    }
   ],
   "source": [
    "pip install numpy\n"
   ]
  },
  {
   "cell_type": "code",
   "execution_count": 2,
   "metadata": {},
   "outputs": [
    {
     "name": "stdout",
     "output_type": "stream",
     "text": [
      "Collecting pandasNote: you may need to restart the kernel to use updated packages.\n",
      "\n",
      "  Downloading pandas-2.0.3-cp38-cp38-win_amd64.whl.metadata (18 kB)\n",
      "Requirement already satisfied: python-dateutil>=2.8.2 in c:\\users\\bisht\\project\\demo--env11\\.conda\\lib\\site-packages (from pandas) (2.8.2)\n",
      "Collecting pytz>=2020.1 (from pandas)\n",
      "  Downloading pytz-2023.3.post1-py2.py3-none-any.whl.metadata (22 kB)\n",
      "Collecting tzdata>=2022.1 (from pandas)\n",
      "  Downloading tzdata-2023.3-py2.py3-none-any.whl (341 kB)\n",
      "     ---------------------------------------- 0.0/341.8 kB ? eta -:--:--\n",
      "     ------- ------------------------------- 61.4/341.8 kB 1.1 MB/s eta 0:00:01\n",
      "     ---------------------- --------------- 204.8/341.8 kB 2.5 MB/s eta 0:00:01\n",
      "     -------------------------------------- 341.8/341.8 kB 2.7 MB/s eta 0:00:00\n",
      "Requirement already satisfied: numpy>=1.20.3 in c:\\users\\bisht\\project\\demo--env11\\.conda\\lib\\site-packages (from pandas) (1.24.4)\n",
      "Requirement already satisfied: six>=1.5 in c:\\users\\bisht\\project\\demo--env11\\.conda\\lib\\site-packages (from python-dateutil>=2.8.2->pandas) (1.16.0)\n",
      "Downloading pandas-2.0.3-cp38-cp38-win_amd64.whl (10.8 MB)\n",
      "   ---------------------------------------- 0.0/10.8 MB ? eta -:--:--\n",
      "    --------------------------------------- 0.2/10.8 MB 6.9 MB/s eta 0:00:02\n",
      "   - -------------------------------------- 0.3/10.8 MB 4.3 MB/s eta 0:00:03\n",
      "   -- ------------------------------------- 0.6/10.8 MB 3.8 MB/s eta 0:00:03\n",
      "   -- ------------------------------------- 0.7/10.8 MB 3.1 MB/s eta 0:00:04\n",
      "   -- ------------------------------------- 0.8/10.8 MB 2.8 MB/s eta 0:00:04\n",
      "   --- ------------------------------------ 1.0/10.8 MB 2.9 MB/s eta 0:00:04\n",
      "   ---- ----------------------------------- 1.2/10.8 MB 3.0 MB/s eta 0:00:04\n",
      "   ----- ---------------------------------- 1.4/10.8 MB 3.1 MB/s eta 0:00:03\n",
      "   ----- ---------------------------------- 1.4/10.8 MB 3.1 MB/s eta 0:00:03\n",
      "   ----- ---------------------------------- 1.4/10.8 MB 3.1 MB/s eta 0:00:03\n",
      "   ----- ---------------------------------- 1.4/10.8 MB 3.1 MB/s eta 0:00:03\n",
      "   ----- ---------------------------------- 1.5/10.8 MB 2.2 MB/s eta 0:00:05\n",
      "   ------ --------------------------------- 1.7/10.8 MB 2.2 MB/s eta 0:00:05\n",
      "   ------ --------------------------------- 1.8/10.8 MB 2.2 MB/s eta 0:00:05\n",
      "   ------- -------------------------------- 2.1/10.8 MB 2.3 MB/s eta 0:00:04\n",
      "   -------- ------------------------------- 2.4/10.8 MB 2.5 MB/s eta 0:00:04\n",
      "   --------- ------------------------------ 2.6/10.8 MB 2.5 MB/s eta 0:00:04\n",
      "   ---------- ----------------------------- 2.9/10.8 MB 2.6 MB/s eta 0:00:04\n",
      "   ----------- ---------------------------- 3.1/10.8 MB 2.6 MB/s eta 0:00:03\n",
      "   ----------- ---------------------------- 3.2/10.8 MB 2.6 MB/s eta 0:00:03\n",
      "   ------------ --------------------------- 3.4/10.8 MB 2.6 MB/s eta 0:00:03\n",
      "   ------------- -------------------------- 3.5/10.8 MB 2.6 MB/s eta 0:00:03\n",
      "   ------------- -------------------------- 3.8/10.8 MB 2.7 MB/s eta 0:00:03\n",
      "   -------------- ------------------------- 3.9/10.8 MB 2.7 MB/s eta 0:00:03\n",
      "   --------------- ------------------------ 4.2/10.8 MB 2.8 MB/s eta 0:00:03\n",
      "   ---------------- ----------------------- 4.5/10.8 MB 2.8 MB/s eta 0:00:03\n",
      "   ----------------- ---------------------- 4.6/10.8 MB 2.8 MB/s eta 0:00:03\n",
      "   ----------------- ---------------------- 4.8/10.8 MB 2.8 MB/s eta 0:00:03\n",
      "   ------------------ --------------------- 5.1/10.8 MB 2.9 MB/s eta 0:00:02\n",
      "   ------------------- -------------------- 5.3/10.8 MB 2.9 MB/s eta 0:00:02\n",
      "   -------------------- ------------------- 5.5/10.8 MB 2.9 MB/s eta 0:00:02\n",
      "   --------------------- ------------------ 5.7/10.8 MB 2.9 MB/s eta 0:00:02\n",
      "   --------------------- ------------------ 5.9/10.8 MB 2.9 MB/s eta 0:00:02\n",
      "   ---------------------- ----------------- 6.1/10.8 MB 3.0 MB/s eta 0:00:02\n",
      "   ----------------------- ---------------- 6.4/10.8 MB 3.0 MB/s eta 0:00:02\n",
      "   ------------------------ --------------- 6.6/10.8 MB 3.0 MB/s eta 0:00:02\n",
      "   ------------------------- -------------- 6.7/10.8 MB 3.1 MB/s eta 0:00:02\n",
      "   ------------------------- -------------- 6.9/10.8 MB 3.1 MB/s eta 0:00:02\n",
      "   -------------------------- ------------- 7.1/10.8 MB 3.1 MB/s eta 0:00:02\n",
      "   --------------------------- ------------ 7.3/10.8 MB 3.1 MB/s eta 0:00:02\n",
      "   --------------------------- ------------ 7.5/10.8 MB 3.1 MB/s eta 0:00:02\n",
      "   ---------------------------- ----------- 7.8/10.8 MB 3.1 MB/s eta 0:00:01\n",
      "   ------------------------------ --------- 8.1/10.8 MB 3.2 MB/s eta 0:00:01\n",
      "   ------------------------------- -------- 8.4/10.8 MB 3.2 MB/s eta 0:00:01\n",
      "   -------------------------------- ------- 8.8/10.8 MB 3.3 MB/s eta 0:00:01\n",
      "   --------------------------------- ------ 9.1/10.8 MB 3.3 MB/s eta 0:00:01\n",
      "   ----------------------------------- ---- 9.4/10.8 MB 3.4 MB/s eta 0:00:01\n",
      "   ------------------------------------ --- 9.8/10.8 MB 3.4 MB/s eta 0:00:01\n",
      "   ------------------------------------- -- 10.1/10.8 MB 3.5 MB/s eta 0:00:01\n",
      "   -------------------------------------- - 10.4/10.8 MB 3.5 MB/s eta 0:00:01\n",
      "   ---------------------------------------  10.6/10.8 MB 3.5 MB/s eta 0:00:01\n",
      "   ---------------------------------------  10.8/10.8 MB 3.5 MB/s eta 0:00:01\n",
      "   ---------------------------------------- 10.8/10.8 MB 3.5 MB/s eta 0:00:00\n",
      "Downloading pytz-2023.3.post1-py2.py3-none-any.whl (502 kB)\n",
      "   ---------------------------------------- 0.0/502.5 kB ? eta -:--:--\n",
      "   --------------------- ------------------ 266.2/502.5 kB 5.4 MB/s eta 0:00:01\n",
      "   ---------------------------------------  501.8/502.5 kB 6.3 MB/s eta 0:00:01\n",
      "   ---------------------------------------- 502.5/502.5 kB 5.2 MB/s eta 0:00:00\n",
      "Installing collected packages: pytz, tzdata, pandas\n",
      "Successfully installed pandas-2.0.3 pytz-2023.3.post1 tzdata-2023.3\n"
     ]
    }
   ],
   "source": [
    "pip install pandas"
   ]
  },
  {
   "cell_type": "code",
   "execution_count": 3,
   "metadata": {},
   "outputs": [],
   "source": [
    "import pandas as pd"
   ]
  },
  {
   "cell_type": "code",
   "execution_count": 4,
   "metadata": {},
   "outputs": [],
   "source": [
    "import numpy as np"
   ]
  },
  {
   "cell_type": "code",
   "execution_count": 5,
   "metadata": {},
   "outputs": [
    {
     "data": {
      "text/plain": [
       "'2.0.3'"
      ]
     },
     "execution_count": 5,
     "metadata": {},
     "output_type": "execute_result"
    }
   ],
   "source": [
    "pd.__version__"
   ]
  },
  {
   "cell_type": "code",
   "execution_count": 6,
   "metadata": {},
   "outputs": [
    {
     "data": {
      "text/plain": [
       "'1.24.4'"
      ]
     },
     "execution_count": 6,
     "metadata": {},
     "output_type": "execute_result"
    }
   ],
   "source": [
    "np.__version__"
   ]
  },
  {
   "cell_type": "code",
   "execution_count": 7,
   "metadata": {},
   "outputs": [
    {
     "name": "stdout",
     "output_type": "stream",
     "text": [
      "Requirement already satisfied: pandas in c:\\users\\bisht\\project\\demo--env11\\.conda\\lib\\site-packages (2.0.3)\n",
      "Requirement already satisfied: python-dateutil>=2.8.2 in c:\\users\\bisht\\project\\demo--env11\\.conda\\lib\\site-packages (from pandas) (2.8.2)\n",
      "Requirement already satisfied: pytz>=2020.1 in c:\\users\\bisht\\project\\demo--env11\\.conda\\lib\\site-packages (from pandas) (2023.3.post1)\n",
      "Requirement already satisfied: tzdata>=2022.1 in c:\\users\\bisht\\project\\demo--env11\\.conda\\lib\\site-packages (from pandas) (2023.3)\n",
      "Requirement already satisfied: numpy>=1.20.3 in c:\\users\\bisht\\project\\demo--env11\\.conda\\lib\\site-packages (from pandas) (1.24.4)\n",
      "Requirement already satisfied: six>=1.5 in c:\\users\\bisht\\project\\demo--env11\\.conda\\lib\\site-packages (from python-dateutil>=2.8.2->pandas) (1.16.0)\n",
      "Note: you may need to restart the kernel to use updated packages.\n"
     ]
    }
   ],
   "source": [
    "pip install --upgrade pandas"
   ]
  },
  {
   "cell_type": "code",
   "execution_count": 1,
   "metadata": {},
   "outputs": [],
   "source": [
    "import pandas as pd"
   ]
  },
  {
   "cell_type": "code",
   "execution_count": 2,
   "metadata": {},
   "outputs": [
    {
     "data": {
      "text/plain": [
       "'2.0.3'"
      ]
     },
     "execution_count": 2,
     "metadata": {},
     "output_type": "execute_result"
    }
   ],
   "source": [
    "pd.__version__"
   ]
  },
  {
   "cell_type": "code",
   "execution_count": 3,
   "metadata": {},
   "outputs": [
    {
     "name": "stdout",
     "output_type": "stream",
     "text": [
      "Requirement already satisfied: numpy in c:\\users\\bisht\\project\\demo--env11\\.conda\\lib\\site-packages (1.24.4)\n",
      "Note: you may need to restart the kernel to use updated packages.\n"
     ]
    }
   ],
   "source": [
    "pip install --upgrade numpy"
   ]
  },
  {
   "cell_type": "code",
   "execution_count": 1,
   "metadata": {},
   "outputs": [],
   "source": [
    "import numpy as np\n",
    "import pandas as pd"
   ]
  },
  {
   "cell_type": "code",
   "execution_count": 2,
   "metadata": {},
   "outputs": [
    {
     "data": {
      "text/plain": [
       "'2.0.3'"
      ]
     },
     "execution_count": 2,
     "metadata": {},
     "output_type": "execute_result"
    }
   ],
   "source": [
    "pd.__version__"
   ]
  },
  {
   "cell_type": "code",
   "execution_count": 3,
   "metadata": {},
   "outputs": [
    {
     "data": {
      "text/plain": [
       "'1.24.4'"
      ]
     },
     "execution_count": 3,
     "metadata": {},
     "output_type": "execute_result"
    }
   ],
   "source": [
    "np.__version__"
   ]
  },
  {
   "cell_type": "code",
   "execution_count": 5,
   "metadata": {},
   "outputs": [
    {
     "ename": "SyntaxError",
     "evalue": "invalid syntax (2612930954.py, line 1)",
     "output_type": "error",
     "traceback": [
      "\u001b[1;36m  Cell \u001b[1;32mIn[5], line 1\u001b[1;36m\u001b[0m\n\u001b[1;33m    Numpy - n - dimensional array -> a collection of elements.\u001b[0m\n\u001b[1;37m                            ^\u001b[0m\n\u001b[1;31mSyntaxError\u001b[0m\u001b[1;31m:\u001b[0m invalid syntax\n"
     ]
    }
   ],
   "source": [
    "Numpy - n - dimensional array -> a collection of elements."
   ]
  },
  {
   "cell_type": "code",
   "execution_count": 2,
   "metadata": {},
   "outputs": [],
   "source": [
    "a_py = [10,60,40,199,213,1599]"
   ]
  },
  {
   "cell_type": "code",
   "execution_count": 3,
   "metadata": {},
   "outputs": [
    {
     "data": {
      "text/plain": [
       "list"
      ]
     },
     "execution_count": 3,
     "metadata": {},
     "output_type": "execute_result"
    }
   ],
   "source": [
    "type(a_py)"
   ]
  },
  {
   "cell_type": "code",
   "execution_count": 6,
   "metadata": {},
   "outputs": [
    {
     "ename": "NameError",
     "evalue": "name 'np' is not defined",
     "output_type": "error",
     "traceback": [
      "\u001b[1;31m---------------------------------------------------------------------------\u001b[0m",
      "\u001b[1;31mNameError\u001b[0m                                 Traceback (most recent call last)",
      "\u001b[1;32mc:\\Users\\BISHT\\OneDrive\\Desktop\\pandas\\pandas1.ipynb Cell 17\u001b[0m line \u001b[0;36m1\n\u001b[1;32m----> <a href='vscode-notebook-cell:/c%3A/Users/BISHT/OneDrive/Desktop/pandas/pandas1.ipynb#X24sZmlsZQ%3D%3D?line=0'>1</a>\u001b[0m b_np \u001b[39m=\u001b[39m np\u001b[39m.\u001b[39marray([\u001b[39m10\u001b[39m,\u001b[39m60\u001b[39m,\u001b[39m40\u001b[39m,\u001b[39m199\u001b[39m,\u001b[39m213\u001b[39m,\u001b[39m1599\u001b[39m])\n",
      "\u001b[1;31mNameError\u001b[0m: name 'np' is not defined"
     ]
    }
   ],
   "source": [
    "b_np = np.array([10,60,40,199,213,1599])"
   ]
  },
  {
   "cell_type": "code",
   "execution_count": 7,
   "metadata": {},
   "outputs": [
    {
     "ename": "NameError",
     "evalue": "name 'b_np' is not defined",
     "output_type": "error",
     "traceback": [
      "\u001b[1;31m---------------------------------------------------------------------------\u001b[0m",
      "\u001b[1;31mNameError\u001b[0m                                 Traceback (most recent call last)",
      "\u001b[1;32mc:\\Users\\BISHT\\OneDrive\\Desktop\\pandas\\pandas1.ipynb Cell 18\u001b[0m line \u001b[0;36m1\n\u001b[1;32m----> <a href='vscode-notebook-cell:/c%3A/Users/BISHT/OneDrive/Desktop/pandas/pandas1.ipynb#X25sZmlsZQ%3D%3D?line=0'>1</a>\u001b[0m \u001b[39mtype\u001b[39m(b_np)\n",
      "\u001b[1;31mNameError\u001b[0m: name 'b_np' is not defined"
     ]
    }
   ],
   "source": [
    "type(b_np)"
   ]
  },
  {
   "cell_type": "code",
   "execution_count": 8,
   "metadata": {},
   "outputs": [
    {
     "data": {
      "text/plain": [
       "[10, 60, 40, 199, 213, 1599]"
      ]
     },
     "execution_count": 8,
     "metadata": {},
     "output_type": "execute_result"
    }
   ],
   "source": [
    "a_py"
   ]
  },
  {
   "cell_type": "code",
   "execution_count": null,
   "metadata": {},
   "outputs": [],
   "source": [
    "Applying operations or Transformation to numpy array is much quicker."
   ]
  },
  {
   "cell_type": "code",
   "execution_count": null,
   "metadata": {},
   "outputs": [],
   "source": [
    "Q1 : Multiply all the number in the above list by 10."
   ]
  },
  {
   "cell_type": "code",
   "execution_count": 9,
   "metadata": {},
   "outputs": [
    {
     "data": {
      "text/plain": [
       "[100, 600, 400, 1990, 2130, 15990]"
      ]
     },
     "execution_count": 9,
     "metadata": {},
     "output_type": "execute_result"
    }
   ],
   "source": [
    "arr  = []\n",
    "\n",
    "for  i in a_py:\n",
    "    arr.append(i * 10)\n",
    "\n",
    "arr"
   ]
  },
  {
   "cell_type": "code",
   "execution_count": 11,
   "metadata": {},
   "outputs": [
    {
     "data": {
      "text/plain": [
       "[100, 600, 400, 1990, 2130, 15990]"
      ]
     },
     "execution_count": 11,
     "metadata": {},
     "output_type": "execute_result"
    }
   ],
   "source": [
    "# more functional approach\n",
    "list(map(lambda i: i * 10,a_py))"
   ]
  },
  {
   "cell_type": "code",
   "execution_count": 12,
   "metadata": {},
   "outputs": [
    {
     "data": {
      "text/plain": [
       "[100, 600, 400, 1990, 2130, 15990]"
      ]
     },
     "execution_count": 12,
     "metadata": {},
     "output_type": "execute_result"
    }
   ],
   "source": [
    "#list comperhension approach\n",
    "[i * 10 for i in a_py]"
   ]
  },
  {
   "cell_type": "code",
   "execution_count": 13,
   "metadata": {},
   "outputs": [
    {
     "ename": "NameError",
     "evalue": "name 'b_np' is not defined",
     "output_type": "error",
     "traceback": [
      "\u001b[1;31m---------------------------------------------------------------------------\u001b[0m",
      "\u001b[1;31mNameError\u001b[0m                                 Traceback (most recent call last)",
      "\u001b[1;32mc:\\Users\\BISHT\\OneDrive\\Desktop\\pandas\\pandas1.ipynb Cell 25\u001b[0m line \u001b[0;36m1\n\u001b[1;32m----> <a href='vscode-notebook-cell:/c%3A/Users/BISHT/OneDrive/Desktop/pandas/pandas1.ipynb#X35sZmlsZQ%3D%3D?line=0'>1</a>\u001b[0m b_np\u001b[39m*\u001b[39m \u001b[39m10\u001b[39m\n",
      "\u001b[1;31mNameError\u001b[0m: name 'b_np' is not defined"
     ]
    }
   ],
   "source": [
    "b_np* 10"
   ]
  },
  {
   "cell_type": "code",
   "execution_count": null,
   "metadata": {},
   "outputs": [],
   "source": [
    "g"
   ]
  }
 ],
 "metadata": {
  "kernelspec": {
   "display_name": "Python 3",
   "language": "python",
   "name": "python3"
  },
  "language_info": {
   "codemirror_mode": {
    "name": "ipython",
    "version": 3
   },
   "file_extension": ".py",
   "mimetype": "text/x-python",
   "name": "python",
   "nbconvert_exporter": "python",
   "pygments_lexer": "ipython3",
   "version": "3.8.18"
  }
 },
 "nbformat": 4,
 "nbformat_minor": 2
}
